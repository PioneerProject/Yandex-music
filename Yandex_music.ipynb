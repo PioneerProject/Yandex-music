{
 "cells": [
  {
   "cell_type": "markdown",
   "metadata": {},
   "source": [
    "# Учебный проект: \"Яндекс Музыка больших городов\""
   ]
  },
  {
   "cell_type": "markdown",
   "metadata": {},
   "source": [
    "На данных Яндекс Музыки проводится сравнение поведения пользователей Москвы и Петербурга.\n",
    "\n",
    "**Цель исследования** — проверка трех гипотез:\n",
    "1. Активность пользователей зависит от дня недели. Причём в Москве и Петербурге это проявляется по-разному.\n",
    "2. В понедельник утром в Москве преобладают одни жанры, а в Петербурге — другие. Так же и вечером пятницы преобладают разные жанры — в зависимости от города. \n",
    "3. Москва и Петербург предпочитают разные жанры музыки. В Москве чаще слушают поп-музыку, в Петербурге — русский рэп.\n",
    "\n",
    "**Ход исследования**\n",
    "\n",
    "Данные о поведении пользователей получены из внешнего файла `yandex_music_project.csv`. О качестве данных ничего не известно. Поэтому перед проверкой гипотез будет проведен обзор данных. \n",
    "\n",
    "Проверка данных на ошибки и оценка их влияние на исследование. Затем, на этапе предобработки будет произведен поиск возможности исправить самые критичные ошибки данных.\n",
    " \n",
    "Таким образом, исследование пройдёт в три этапа:\n",
    " 1. Обзор данных.\n",
    " 2. Предобработка данных.\n",
    " 3. Проверка гипотез.\n"
   ]
  },
  {
   "cell_type": "markdown",
   "metadata": {},
   "source": [
    "## Обзор данных"
   ]
  },
  {
   "cell_type": "code",
   "execution_count": 2,
   "metadata": {},
   "outputs": [],
   "source": [
    "# импорт библиотеки pandas\n",
    "import pandas as pd"
   ]
  },
  {
   "cell_type": "code",
   "execution_count": 7,
   "metadata": {},
   "outputs": [],
   "source": [
    "# чтение файла с данными и сохранение в df\n",
    "df=pd.read_csv('./datasets/yandex_music_project.csv')"
   ]
  },
  {
   "cell_type": "code",
   "execution_count": 8,
   "metadata": {},
   "outputs": [
    {
     "name": "stdout",
     "output_type": "stream",
     "text": [
      "     userID                        Track            artist   genre  \\\n",
      "0  FFB692EC            Kamigata To Boots  The Mass Missile    rock   \n",
      "1  55204538  Delayed Because of Accident  Andreas Rönnberg    rock   \n",
      "2    20EC38            Funiculì funiculà       Mario Lanza     pop   \n",
      "3  A3DD03C9        Dragons in the Sunset        Fire + Ice    folk   \n",
      "4  E2DC1FAE                  Soul People        Space Echo   dance   \n",
      "5  842029A1                    Преданная         IMPERVTOR  rusrap   \n",
      "6  4CB90AA5                         True      Roman Messer   dance   \n",
      "7  F03E1C1F             Feeling This Way   Polina Griffith   dance   \n",
      "8  8FA1D3BE     И вновь продолжается бой               NaN  ruspop   \n",
      "9  E772D5C0                    Pessimist               NaN   dance   \n",
      "\n",
      "             City        time        Day  \n",
      "0  Saint-Petersburg  20:28:33  Wednesday  \n",
      "1            Moscow  14:07:09     Friday  \n",
      "2  Saint-Petersburg  20:58:07  Wednesday  \n",
      "3  Saint-Petersburg  08:37:09     Monday  \n",
      "4            Moscow  08:34:34     Monday  \n",
      "5  Saint-Petersburg  13:09:41     Friday  \n",
      "6            Moscow  13:00:07  Wednesday  \n",
      "7            Moscow  20:47:49  Wednesday  \n",
      "8            Moscow  09:17:40     Friday  \n",
      "9  Saint-Petersburg  21:20:49  Wednesday  \n"
     ]
    }
   ],
   "source": [
    "# получение первых 10 строк таблицы df\n",
    "print(df.head(10))"
   ]
  },
  {
   "cell_type": "code",
   "execution_count": 9,
   "metadata": {},
   "outputs": [
    {
     "name": "stdout",
     "output_type": "stream",
     "text": [
      "<class 'pandas.core.frame.DataFrame'>\n",
      "RangeIndex: 65079 entries, 0 to 65078\n",
      "Data columns (total 7 columns):\n",
      " #   Column    Non-Null Count  Dtype \n",
      "---  ------    --------------  ----- \n",
      " 0     userID  65079 non-null  object\n",
      " 1   Track     63848 non-null  object\n",
      " 2   artist    57876 non-null  object\n",
      " 3   genre     63881 non-null  object\n",
      " 4     City    65079 non-null  object\n",
      " 5   time      65079 non-null  object\n",
      " 6   Day       65079 non-null  object\n",
      "dtypes: object(7)\n",
      "memory usage: 3.5+ MB\n"
     ]
    }
   ],
   "source": [
    "# получение общей информации о данных в таблице df\n",
    "df.info()"
   ]
  },
  {
   "cell_type": "markdown",
   "metadata": {},
   "source": [
    "Итак, в таблице семь столбцов. Тип данных во всех столбцах — `object`.\n",
    "\n",
    "Согласно документации к данным:\n",
    "* `userID` — идентификатор пользователя;\n",
    "* `Track` — название трека;  \n",
    "* `artist` — имя исполнителя;\n",
    "* `genre` — название жанра;\n",
    "* `City` — город пользователя;\n",
    "* `time` — время начала прослушивания;\n",
    "* `Day` — день недели.\n",
    "\n",
    "Количество значений в столбцах различается. Значит, в данных есть пропущенные значения."
   ]
  },
  {
   "cell_type": "markdown",
   "metadata": {},
   "source": [
    "В названиях колонок видны нарушения стиля:\n",
    "* Строчные буквы сочетаются с прописными.\n",
    "* Встречаются пробелы.\n",
    "* Нарушены правила хорошего тона в наименованиях столбцов\n",
    "* Необходимо исключить применение русского и латинского алфавита в написании столбцов\n",
    "\n",
    "Все замечания необходимо устранить, для дальнейшей работы"
   ]
  },
  {
   "cell_type": "markdown",
   "metadata": {},
   "source": [
    "**Выводы**\n",
    "\n",
    "В каждой строке таблицы — данные о прослушанном треке. Часть колонок описывает саму композицию: название, исполнителя и жанр. Остальные данные рассказывают о пользователе: из какого он города, когда он слушал музыку. \n",
    "\n",
    "Предварительно можно утверждать, что данных достаточно для проверки гипотез. Но встречаются пропуски в данных, а в названиях колонок — расхождения с хорошим стилем.\n",
    "\n",
    "Чтобы двигаться дальше, нужно устранить перечисленные проблемы в данных."
   ]
  },
  {
   "cell_type": "markdown",
   "metadata": {},
   "source": [
    "## Предобработка данных\n",
    "Исправление стиля в заголовках столбцов и исключение пропусков. Затем провека данных на дубликаты."
   ]
  },
  {
   "cell_type": "markdown",
   "metadata": {},
   "source": [
    "### Стиль заголовков\n",
    "\n",
    "Вывод на экран названия столбцов:"
   ]
  },
  {
   "cell_type": "code",
   "execution_count": 10,
   "metadata": {},
   "outputs": [
    {
     "name": "stdout",
     "output_type": "stream",
     "text": [
      "Index(['  userID', 'Track', 'artist', 'genre', '  City  ', 'time', 'Day'], dtype='object')\n"
     ]
    }
   ],
   "source": [
    "# перечень названий столбцов таблицы df\n",
    "print (df.columns)"
   ]
  },
  {
   "cell_type": "markdown",
   "metadata": {},
   "source": [
    "**Задание 7**\n",
    "\n",
    "\n",
    "Приведите названия в соответствие с хорошим стилем:\n",
    "* несколько слов в названии запишите в «змеином_регистре»,\n",
    "* все символы сделайте строчными,\n",
    "* устраните пробелы.\n",
    "\n",
    "Для этого переименуйте колонки так:\n",
    "* `'  userID'` → `'user_id'`;\n",
    "* `'Track'` → `'track'`;\n",
    "* `'  City  '` → `'city'`;\n",
    "* `'Day'` → `'day'`."
   ]
  },
  {
   "cell_type": "code",
   "execution_count": 46,
   "metadata": {},
   "outputs": [],
   "source": [
    "# переименование столбцов\n",
    "df=df.rename(columns = {'  userID': 'user_id', 'Track': 'track', '  City  ': 'city', 'Day': 'day'})"
   ]
  },
  {
   "cell_type": "markdown",
   "metadata": {},
   "source": [
    "**Задание 8**\n",
    "\n",
    "\n",
    "Проверьте результат. Для этого ещё раз выведите на экран названия столбцов:"
   ]
  },
  {
   "cell_type": "code",
   "execution_count": 47,
   "metadata": {},
   "outputs": [
    {
     "name": "stdout",
     "output_type": "stream",
     "text": [
      "Index(['user_id', 'track', 'artist', 'genre', 'city', 'time', 'day'], dtype='object')\n"
     ]
    }
   ],
   "source": [
    "# проверка результатов - перечень названий столбцов\n",
    "print (df.columns)"
   ]
  },
  {
   "cell_type": "markdown",
   "metadata": {},
   "source": [
    "### Пропуски значений\n",
    "\n",
    "**Задание 9**\n",
    "\n",
    "Сначала посчитайте, сколько в таблице пропущенных значений. Для этого достаточно двух методов `pandas`:"
   ]
  },
  {
   "cell_type": "code",
   "execution_count": 48,
   "metadata": {},
   "outputs": [
    {
     "data": {
      "text/plain": [
       "user_id       0\n",
       "track      1231\n",
       "artist     7203\n",
       "genre      1198\n",
       "city          0\n",
       "time          0\n",
       "day           0\n",
       "dtype: int64"
      ]
     },
     "execution_count": 48,
     "metadata": {},
     "output_type": "execute_result"
    }
   ],
   "source": [
    "# подсчёт пропусков\n",
    "(df.isna().sum())"
   ]
  },
  {
   "cell_type": "markdown",
   "metadata": {},
   "source": [
    "Не все пропущенные значения влияют на исследование. Так в `track` и `artist` пропуски не важны для вашей работы. Достаточно заменить их явными обозначениями.\n",
    "\n",
    "Но пропуски в `genre` могут помешать сравнению музыкальных вкусов в Москве и Санкт-Петербурге. На практике было бы правильно установить причину пропусков и восстановить данные. Такой возможности нет в учебном проекте. Придётся:\n",
    "* заполнить и эти пропуски явными обозначениями;\n",
    "* оценить, насколько они повредят расчётам. "
   ]
  },
  {
   "cell_type": "markdown",
   "metadata": {},
   "source": [
    "**Задание 10**\n",
    "\n",
    "Замените пропущенные значения в столбцах `track`, `artist` и `genre` на строку `'unknown'`. Для этого создайте список `columns_to_replace`, переберите его элементы циклом `for` и для каждого столбца выполните замену пропущенных значений:"
   ]
  },
  {
   "cell_type": "code",
   "execution_count": 49,
   "metadata": {},
   "outputs": [],
   "source": [
    "# перебор названий столбцов в цикле и замена пропущенных значений на 'unknown'\n",
    "df = df.fillna('unknown')"
   ]
  },
  {
   "cell_type": "markdown",
   "metadata": {},
   "source": [
    "**Задание 11**\n",
    "\n",
    "Убедитесь, что в таблице не осталось пропусков. Для этого ещё раз посчитайте пропущенные значения."
   ]
  },
  {
   "cell_type": "code",
   "execution_count": 50,
   "metadata": {},
   "outputs": [
    {
     "data": {
      "text/plain": [
       "user_id    0\n",
       "track      0\n",
       "artist     0\n",
       "genre      0\n",
       "city       0\n",
       "time       0\n",
       "day        0\n",
       "dtype: int64"
      ]
     },
     "execution_count": 50,
     "metadata": {},
     "output_type": "execute_result"
    }
   ],
   "source": [
    "# подсчёт пропусков\n",
    "(df.isna().sum())"
   ]
  },
  {
   "cell_type": "markdown",
   "metadata": {},
   "source": [
    "### Дубликаты\n",
    "\n",
    "**Задание 12**\n",
    "\n",
    "Посчитайте явные дубликаты в таблице одной командой:"
   ]
  },
  {
   "cell_type": "code",
   "execution_count": 51,
   "metadata": {},
   "outputs": [
    {
     "data": {
      "text/plain": [
       "3826"
      ]
     },
     "execution_count": 51,
     "metadata": {},
     "output_type": "execute_result"
    }
   ],
   "source": [
    "# подсчёт явных дубликатов\n",
    "df.duplicated().sum()\n"
   ]
  },
  {
   "cell_type": "markdown",
   "metadata": {},
   "source": [
    "**Задание 13**\n",
    "\n",
    "Вызовите специальный метод `pandas`, чтобы удалить явные дубликаты:"
   ]
  },
  {
   "cell_type": "code",
   "execution_count": 52,
   "metadata": {},
   "outputs": [],
   "source": [
    "# удаление явных дубликатов\n",
    "df = df.drop_duplicates()\n"
   ]
  },
  {
   "cell_type": "markdown",
   "metadata": {},
   "source": [
    "**Задание 14**\n",
    "\n",
    "Ещё раз посчитайте явные дубликаты в таблице — убедитесь, что полностью от них избавились:"
   ]
  },
  {
   "cell_type": "code",
   "execution_count": 53,
   "metadata": {},
   "outputs": [
    {
     "data": {
      "text/plain": [
       "0"
      ]
     },
     "execution_count": 53,
     "metadata": {},
     "output_type": "execute_result"
    }
   ],
   "source": [
    "# проверка на отсутствие дубликатов\n",
    "df.duplicated().sum()"
   ]
  },
  {
   "cell_type": "markdown",
   "metadata": {},
   "source": [
    "Теперь избавьтесь от неявных дубликатов в колонке `genre`. Например, название одного и того же жанра может быть записано немного по-разному. Такие ошибки тоже повлияют на результат исследования."
   ]
  },
  {
   "cell_type": "markdown",
   "metadata": {},
   "source": [
    "**Задание 15**\n",
    "\n",
    "Выведите на экран список уникальных названий жанров, отсортированный в алфавитном порядке. Для этого:\n",
    "1. извлеките нужный столбец датафрейма; \n",
    "2. примените к нему метод сортировки;\n",
    "3. для отсортированного столбца вызовите метод, который вернёт уникальные значения из столбца."
   ]
  },
  {
   "cell_type": "code",
   "execution_count": 54,
   "metadata": {},
   "outputs": [
    {
     "data": {
      "text/plain": [
       "array(['acid', 'acoustic', 'action', 'adult', 'africa', 'afrikaans',\n",
       "       'alternative', 'alternativepunk', 'ambient', 'americana',\n",
       "       'animated', 'anime', 'arabesk', 'arabic', 'arena',\n",
       "       'argentinetango', 'art', 'audiobook', 'author', 'avantgarde',\n",
       "       'axé', 'baile', 'balkan', 'beats', 'bigroom', 'black', 'bluegrass',\n",
       "       'blues', 'bollywood', 'bossa', 'brazilian', 'breakbeat', 'breaks',\n",
       "       'broadway', 'cantautori', 'cantopop', 'canzone', 'caribbean',\n",
       "       'caucasian', 'celtic', 'chamber', 'chanson', 'children', 'chill',\n",
       "       'chinese', 'choral', 'christian', 'christmas', 'classical',\n",
       "       'classicmetal', 'club', 'colombian', 'comedy', 'conjazz',\n",
       "       'contemporary', 'country', 'cuban', 'dance', 'dancehall',\n",
       "       'dancepop', 'dark', 'death', 'deep', 'deutschrock', 'deutschspr',\n",
       "       'dirty', 'disco', 'dnb', 'documentary', 'downbeat', 'downtempo',\n",
       "       'drum', 'dub', 'dubstep', 'eastern', 'easy', 'electronic',\n",
       "       'electropop', 'emo', 'entehno', 'epicmetal', 'estrada', 'ethnic',\n",
       "       'eurofolk', 'european', 'experimental', 'extrememetal', 'fado',\n",
       "       'fairytail', 'film', 'fitness', 'flamenco', 'folk', 'folklore',\n",
       "       'folkmetal', 'folkrock', 'folktronica', 'forró', 'frankreich',\n",
       "       'französisch', 'french', 'funk', 'future', 'gangsta', 'garage',\n",
       "       'german', 'ghazal', 'gitarre', 'glitch', 'gospel', 'gothic',\n",
       "       'grime', 'grunge', 'gypsy', 'handsup', \"hard'n'heavy\", 'hardcore',\n",
       "       'hardstyle', 'hardtechno', 'hip', 'hip-hop', 'hiphop',\n",
       "       'historisch', 'holiday', 'hop', 'horror', 'house', 'hymn', 'idm',\n",
       "       'independent', 'indian', 'indie', 'indipop', 'industrial',\n",
       "       'inspirational', 'instrumental', 'international', 'irish', 'jam',\n",
       "       'japanese', 'jazz', 'jewish', 'jpop', 'jungle', 'k-pop',\n",
       "       'karadeniz', 'karaoke', 'kayokyoku', 'korean', 'laiko', 'latin',\n",
       "       'latino', 'leftfield', 'local', 'lounge', 'loungeelectronic',\n",
       "       'lovers', 'malaysian', 'mandopop', 'marschmusik', 'meditative',\n",
       "       'mediterranean', 'melodic', 'metal', 'metalcore', 'mexican',\n",
       "       'middle', 'minimal', 'miscellaneous', 'modern', 'mood', 'mpb',\n",
       "       'muslim', 'native', 'neoklassik', 'neue', 'new', 'newage',\n",
       "       'newwave', 'nu', 'nujazz', 'numetal', 'oceania', 'old', 'opera',\n",
       "       'orchestral', 'other', 'piano', 'podcasts', 'pop', 'popdance',\n",
       "       'popelectronic', 'popeurodance', 'poprussian', 'post',\n",
       "       'posthardcore', 'postrock', 'power', 'progmetal', 'progressive',\n",
       "       'psychedelic', 'punjabi', 'punk', 'quebecois', 'ragga', 'ram',\n",
       "       'rancheras', 'rap', 'rave', 'reggae', 'reggaeton', 'regional',\n",
       "       'relax', 'religious', 'retro', 'rhythm', 'rnb', 'rnr', 'rock',\n",
       "       'rockabilly', 'rockalternative', 'rockindie', 'rockother',\n",
       "       'romance', 'roots', 'ruspop', 'rusrap', 'rusrock', 'russian',\n",
       "       'salsa', 'samba', 'scenic', 'schlager', 'self', 'sertanejo',\n",
       "       'shanson', 'shoegazing', 'showtunes', 'singer', 'ska', 'skarock',\n",
       "       'slow', 'smooth', 'soft', 'soul', 'soulful', 'sound', 'soundtrack',\n",
       "       'southern', 'specialty', 'speech', 'spiritual', 'sport',\n",
       "       'stonerrock', 'surf', 'swing', 'synthpop', 'synthrock',\n",
       "       'sängerportrait', 'tango', 'tanzorchester', 'taraftar', 'tatar',\n",
       "       'tech', 'techno', 'teen', 'thrash', 'top', 'traditional',\n",
       "       'tradjazz', 'trance', 'tribal', 'trip', 'triphop', 'tropical',\n",
       "       'türk', 'türkçe', 'ukrrock', 'unknown', 'urban', 'uzbek',\n",
       "       'variété', 'vi', 'videogame', 'vocal', 'western', 'world',\n",
       "       'worldbeat', 'ïîï', 'электроника'], dtype=object)"
      ]
     },
     "execution_count": 54,
     "metadata": {},
     "output_type": "execute_result"
    }
   ],
   "source": [
    "# Просмотр уникальных названий жанров\n",
    "df['genre'].sort_values().unique()\n"
   ]
  },
  {
   "cell_type": "markdown",
   "metadata": {},
   "source": [
    "**Задание 16**\n",
    "\n",
    "Просмотрите список и найдите неявные дубликаты названия `hiphop`. Это могут быть названия с ошибками или альтернативные названия того же жанра.\n",
    "\n",
    "Вы увидите следующие неявные дубликаты:\n",
    "* *hip*,\n",
    "* *hop*,\n",
    "* *hip-hop*.\n",
    "\n",
    "Чтобы очистить от них таблицу используйте метод `replace()` с двумя аргументами: списком строк-дубликатов (включащий *hip*, *hop* и *hip-hop*) и строкой с правильным значением. Вам нужно исправить колонку `genre` в таблице `df`: заменить каждое значение из списка дубликатов на верное. Вместо `hip`, `hop` и `hip-hop` в таблице должно быть значение `hiphop`:"
   ]
  },
  {
   "cell_type": "code",
   "execution_count": 55,
   "metadata": {},
   "outputs": [
    {
     "name": "stdout",
     "output_type": "stream",
     "text": [
      "(61253, 7)\n",
      "(61253, 7)\n"
     ]
    },
    {
     "data": {
      "text/plain": [
       "array(['acid', 'acoustic', 'action', 'adult', 'africa', 'afrikaans',\n",
       "       'alternative', 'alternativepunk', 'ambient', 'americana',\n",
       "       'animated', 'anime', 'arabesk', 'arabic', 'arena',\n",
       "       'argentinetango', 'art', 'audiobook', 'author', 'avantgarde',\n",
       "       'axé', 'baile', 'balkan', 'beats', 'bigroom', 'black', 'bluegrass',\n",
       "       'blues', 'bollywood', 'bossa', 'brazilian', 'breakbeat', 'breaks',\n",
       "       'broadway', 'cantautori', 'cantopop', 'canzone', 'caribbean',\n",
       "       'caucasian', 'celtic', 'chamber', 'chanson', 'children', 'chill',\n",
       "       'chinese', 'choral', 'christian', 'christmas', 'classical',\n",
       "       'classicmetal', 'club', 'colombian', 'comedy', 'conjazz',\n",
       "       'contemporary', 'country', 'cuban', 'dance', 'dancehall',\n",
       "       'dancepop', 'dark', 'death', 'deep', 'deutschrock', 'deutschspr',\n",
       "       'dirty', 'disco', 'dnb', 'documentary', 'downbeat', 'downtempo',\n",
       "       'drum', 'dub', 'dubstep', 'eastern', 'easy', 'electronic',\n",
       "       'electropop', 'emo', 'entehno', 'epicmetal', 'estrada', 'ethnic',\n",
       "       'eurofolk', 'european', 'experimental', 'extrememetal', 'fado',\n",
       "       'fairytail', 'film', 'fitness', 'flamenco', 'folk', 'folklore',\n",
       "       'folkmetal', 'folkrock', 'folktronica', 'forró', 'frankreich',\n",
       "       'französisch', 'french', 'funk', 'future', 'gangsta', 'garage',\n",
       "       'german', 'ghazal', 'gitarre', 'glitch', 'gospel', 'gothic',\n",
       "       'grime', 'grunge', 'gypsy', 'handsup', \"hard'n'heavy\", 'hardcore',\n",
       "       'hardstyle', 'hardtechno', 'hiphop', 'historisch', 'holiday',\n",
       "       'horror', 'house', 'hymn', 'idm', 'independent', 'indian', 'indie',\n",
       "       'indipop', 'industrial', 'inspirational', 'instrumental',\n",
       "       'international', 'irish', 'jam', 'japanese', 'jazz', 'jewish',\n",
       "       'jpop', 'jungle', 'k-pop', 'karadeniz', 'karaoke', 'kayokyoku',\n",
       "       'korean', 'laiko', 'latin', 'latino', 'leftfield', 'local',\n",
       "       'lounge', 'loungeelectronic', 'lovers', 'malaysian', 'mandopop',\n",
       "       'marschmusik', 'meditative', 'mediterranean', 'melodic', 'metal',\n",
       "       'metalcore', 'mexican', 'middle', 'minimal', 'miscellaneous',\n",
       "       'modern', 'mood', 'mpb', 'muslim', 'native', 'neoklassik', 'neue',\n",
       "       'new', 'newage', 'newwave', 'nu', 'nujazz', 'numetal', 'oceania',\n",
       "       'old', 'opera', 'orchestral', 'other', 'piano', 'podcasts', 'pop',\n",
       "       'popdance', 'popelectronic', 'popeurodance', 'poprussian', 'post',\n",
       "       'posthardcore', 'postrock', 'power', 'progmetal', 'progressive',\n",
       "       'psychedelic', 'punjabi', 'punk', 'quebecois', 'ragga', 'ram',\n",
       "       'rancheras', 'rap', 'rave', 'reggae', 'reggaeton', 'regional',\n",
       "       'relax', 'religious', 'retro', 'rhythm', 'rnb', 'rnr', 'rock',\n",
       "       'rockabilly', 'rockalternative', 'rockindie', 'rockother',\n",
       "       'romance', 'roots', 'ruspop', 'rusrap', 'rusrock', 'russian',\n",
       "       'salsa', 'samba', 'scenic', 'schlager', 'self', 'sertanejo',\n",
       "       'shanson', 'shoegazing', 'showtunes', 'singer', 'ska', 'skarock',\n",
       "       'slow', 'smooth', 'soft', 'soul', 'soulful', 'sound', 'soundtrack',\n",
       "       'southern', 'specialty', 'speech', 'spiritual', 'sport',\n",
       "       'stonerrock', 'surf', 'swing', 'synthpop', 'synthrock',\n",
       "       'sängerportrait', 'tango', 'tanzorchester', 'taraftar', 'tatar',\n",
       "       'tech', 'techno', 'teen', 'thrash', 'top', 'traditional',\n",
       "       'tradjazz', 'trance', 'tribal', 'trip', 'triphop', 'tropical',\n",
       "       'türk', 'türkçe', 'ukrrock', 'unknown', 'urban', 'uzbek',\n",
       "       'variété', 'vi', 'videogame', 'vocal', 'western', 'world',\n",
       "       'worldbeat', 'ïîï', 'электроника'], dtype=object)"
      ]
     },
     "execution_count": 55,
     "metadata": {},
     "output_type": "execute_result"
    }
   ],
   "source": [
    "# Устранение неявных дубликатов\n",
    "shape_table = df.shape\n",
    "print (shape_table)\n",
    "erroneous_value = ['hip', 'hop','hip-hop']\n",
    "correct_value = 'hiphop'\n",
    "df['genre'] = df['genre'].replace(erroneous_value, correct_value)\n",
    "print (shape_table)\n",
    "df['genre'].sort_values().unique()"
   ]
  },
  {
   "cell_type": "markdown",
   "metadata": {},
   "source": [
    "**Задание 17**\n",
    "\n",
    "Проверьте, что заменили неправильные названия:\n",
    "\n",
    "*   hip,\n",
    "*   hop,\n",
    "*   hip-hop.\n",
    "\n",
    "Выведите отсортированный список уникальных значений столбца `genre`:"
   ]
  },
  {
   "cell_type": "code",
   "execution_count": 56,
   "metadata": {},
   "outputs": [
    {
     "data": {
      "text/plain": [
       "array(['acid', 'acoustic', 'action', 'adult', 'africa', 'afrikaans',\n",
       "       'alternative', 'alternativepunk', 'ambient', 'americana',\n",
       "       'animated', 'anime', 'arabesk', 'arabic', 'arena',\n",
       "       'argentinetango', 'art', 'audiobook', 'author', 'avantgarde',\n",
       "       'axé', 'baile', 'balkan', 'beats', 'bigroom', 'black', 'bluegrass',\n",
       "       'blues', 'bollywood', 'bossa', 'brazilian', 'breakbeat', 'breaks',\n",
       "       'broadway', 'cantautori', 'cantopop', 'canzone', 'caribbean',\n",
       "       'caucasian', 'celtic', 'chamber', 'chanson', 'children', 'chill',\n",
       "       'chinese', 'choral', 'christian', 'christmas', 'classical',\n",
       "       'classicmetal', 'club', 'colombian', 'comedy', 'conjazz',\n",
       "       'contemporary', 'country', 'cuban', 'dance', 'dancehall',\n",
       "       'dancepop', 'dark', 'death', 'deep', 'deutschrock', 'deutschspr',\n",
       "       'dirty', 'disco', 'dnb', 'documentary', 'downbeat', 'downtempo',\n",
       "       'drum', 'dub', 'dubstep', 'eastern', 'easy', 'electronic',\n",
       "       'electropop', 'emo', 'entehno', 'epicmetal', 'estrada', 'ethnic',\n",
       "       'eurofolk', 'european', 'experimental', 'extrememetal', 'fado',\n",
       "       'fairytail', 'film', 'fitness', 'flamenco', 'folk', 'folklore',\n",
       "       'folkmetal', 'folkrock', 'folktronica', 'forró', 'frankreich',\n",
       "       'französisch', 'french', 'funk', 'future', 'gangsta', 'garage',\n",
       "       'german', 'ghazal', 'gitarre', 'glitch', 'gospel', 'gothic',\n",
       "       'grime', 'grunge', 'gypsy', 'handsup', \"hard'n'heavy\", 'hardcore',\n",
       "       'hardstyle', 'hardtechno', 'hiphop', 'historisch', 'holiday',\n",
       "       'horror', 'house', 'hymn', 'idm', 'independent', 'indian', 'indie',\n",
       "       'indipop', 'industrial', 'inspirational', 'instrumental',\n",
       "       'international', 'irish', 'jam', 'japanese', 'jazz', 'jewish',\n",
       "       'jpop', 'jungle', 'k-pop', 'karadeniz', 'karaoke', 'kayokyoku',\n",
       "       'korean', 'laiko', 'latin', 'latino', 'leftfield', 'local',\n",
       "       'lounge', 'loungeelectronic', 'lovers', 'malaysian', 'mandopop',\n",
       "       'marschmusik', 'meditative', 'mediterranean', 'melodic', 'metal',\n",
       "       'metalcore', 'mexican', 'middle', 'minimal', 'miscellaneous',\n",
       "       'modern', 'mood', 'mpb', 'muslim', 'native', 'neoklassik', 'neue',\n",
       "       'new', 'newage', 'newwave', 'nu', 'nujazz', 'numetal', 'oceania',\n",
       "       'old', 'opera', 'orchestral', 'other', 'piano', 'podcasts', 'pop',\n",
       "       'popdance', 'popelectronic', 'popeurodance', 'poprussian', 'post',\n",
       "       'posthardcore', 'postrock', 'power', 'progmetal', 'progressive',\n",
       "       'psychedelic', 'punjabi', 'punk', 'quebecois', 'ragga', 'ram',\n",
       "       'rancheras', 'rap', 'rave', 'reggae', 'reggaeton', 'regional',\n",
       "       'relax', 'religious', 'retro', 'rhythm', 'rnb', 'rnr', 'rock',\n",
       "       'rockabilly', 'rockalternative', 'rockindie', 'rockother',\n",
       "       'romance', 'roots', 'ruspop', 'rusrap', 'rusrock', 'russian',\n",
       "       'salsa', 'samba', 'scenic', 'schlager', 'self', 'sertanejo',\n",
       "       'shanson', 'shoegazing', 'showtunes', 'singer', 'ska', 'skarock',\n",
       "       'slow', 'smooth', 'soft', 'soul', 'soulful', 'sound', 'soundtrack',\n",
       "       'southern', 'specialty', 'speech', 'spiritual', 'sport',\n",
       "       'stonerrock', 'surf', 'swing', 'synthpop', 'synthrock',\n",
       "       'sängerportrait', 'tango', 'tanzorchester', 'taraftar', 'tatar',\n",
       "       'tech', 'techno', 'teen', 'thrash', 'top', 'traditional',\n",
       "       'tradjazz', 'trance', 'tribal', 'trip', 'triphop', 'tropical',\n",
       "       'türk', 'türkçe', 'ukrrock', 'unknown', 'urban', 'uzbek',\n",
       "       'variété', 'vi', 'videogame', 'vocal', 'western', 'world',\n",
       "       'worldbeat', 'ïîï', 'электроника'], dtype=object)"
      ]
     },
     "execution_count": 56,
     "metadata": {},
     "output_type": "execute_result"
    }
   ],
   "source": [
    "# Проверка на неявные дубликаты\n",
    "df['genre'].sort_values().unique()"
   ]
  },
  {
   "cell_type": "markdown",
   "metadata": {},
   "source": [
    "**Выводы**\n",
    "\n",
    "Предобработка обнаружила три проблемы в данных:\n",
    "\n",
    "- нарушения в стиле заголовков,\n",
    "- пропущенные значения,\n",
    "- дубликаты — явные и неявные.\n",
    "\n",
    "Вы исправили заголовки, чтобы упростить работу с таблицей. Без дубликатов исследование станет более точным.\n",
    "\n",
    "Пропущенные значения вы заменили на `'unknown'`. Ещё предстоит увидеть, не повредят ли исследованию пропуски в колонке `genre`.\n",
    "\n",
    "Теперь можно перейти к проверке гипотез. "
   ]
  },
  {
   "cell_type": "markdown",
   "metadata": {},
   "source": [
    "## Проверка гипотез"
   ]
  },
  {
   "cell_type": "markdown",
   "metadata": {},
   "source": [
    "### Сравнение поведения пользователей двух столиц"
   ]
  },
  {
   "cell_type": "markdown",
   "metadata": {},
   "source": [
    "Первая гипотеза утверждает, что пользователи по-разному слушают музыку в Москве и Санкт-Петербурге. Проверьте это предположение по данным о трёх днях недели — понедельнике, среде и пятнице. Для этого:\n",
    "\n",
    "* Разделите пользователей Москвы и Санкт-Петербурга.\n",
    "* Сравните, сколько треков послушала каждая группа пользователей в понедельник, среду и пятницу.\n"
   ]
  },
  {
   "cell_type": "markdown",
   "metadata": {},
   "source": [
    "**Задание 18**\n",
    "\n",
    "Для тренировки сначала выполните каждый из расчётов по отдельности. \n",
    "\n",
    "Оцените активность пользователей в каждом городе. Сгруппируйте данные по городу и посчитайте прослушивания в каждой группе.\n",
    "\n"
   ]
  },
  {
   "cell_type": "code",
   "execution_count": 57,
   "metadata": {},
   "outputs": [
    {
     "data": {
      "text/plain": [
       "city\n",
       "Moscow              42741\n",
       "Saint-Petersburg    18512\n",
       "Name: time, dtype: int64"
      ]
     },
     "execution_count": 57,
     "metadata": {},
     "output_type": "execute_result"
    }
   ],
   "source": [
    "# Подсчёт прослушиваний в каждом городе\n",
    "df.groupby('city')['time'].count()"
   ]
  },
  {
   "cell_type": "markdown",
   "metadata": {},
   "source": [
    "В Москве прослушиваний больше, чем в Петербурге. Из этого не следует, что московские пользователи чаще слушают музыку. Просто самих пользователей в Москве больше.\n",
    "\n",
    "**Задание 19**\n",
    "\n",
    "Теперь сгруппируйте данные по дню недели и посчитайте прослушивания в понедельник, среду и пятницу. Учтите, что в данных есть информация о прослушиваниях только за эти дни.\n"
   ]
  },
  {
   "cell_type": "code",
   "execution_count": 58,
   "metadata": {},
   "outputs": [
    {
     "data": {
      "text/plain": [
       "day\n",
       "Friday       21840\n",
       "Monday       21354\n",
       "Wednesday    18059\n",
       "Name: time, dtype: int64"
      ]
     },
     "execution_count": 58,
     "metadata": {},
     "output_type": "execute_result"
    }
   ],
   "source": [
    "# Подсчёт прослушиваний в каждый из трёх дней\n",
    "df.groupby('day')['time'].count()"
   ]
  },
  {
   "cell_type": "markdown",
   "metadata": {},
   "source": [
    "В среднем пользователи из двух городов менее активны по средам. Но картина может измениться, если рассмотреть каждый город в отдельности."
   ]
  },
  {
   "cell_type": "markdown",
   "metadata": {},
   "source": [
    "**Задание 20**\n",
    "\n",
    "\n",
    "Вы видели, как работает группировка по городу и по дням недели. Теперь напишите функцию, которая объединит два эти расчёта.\n",
    "\n",
    "Создайте функцию `number_tracks()`, которая посчитает прослушивания для заданного дня и города. Ей понадобятся два параметра:\n",
    "* день недели,\n",
    "* название города.\n",
    "\n",
    "В функции сохраните в переменную строки исходной таблицы, у которых значение:\n",
    "  * в колонке `day` равно параметру `day`,\n",
    "  * в колонке `city` равно параметру `city`.\n",
    "\n",
    "Для этого примените последовательную фильтрацию с логической индексацией (или сложные логические выражения в одну строку, если вы уже знакомы с ними).\n",
    "\n",
    "Затем посчитайте значения в столбце `user_id` получившейся таблицы. Результат сохраните в новую переменную. Верните эту переменную из функции."
   ]
  },
  {
   "cell_type": "code",
   "execution_count": 59,
   "metadata": {},
   "outputs": [],
   "source": [
    "# <создание функции number_tracks()>\n",
    "# Объявляется функция с двумя параметрами: day, city.\n",
    "def number_tracks (city, day):\n",
    "# В переменной track_list сохраняются те строки таблицы df, для которых \n",
    "# значение в столбце 'day' равно параметру day и одновременно значение\n",
    "# в столбце 'city' равно параметру city (используйте последовательную фильтрацию\n",
    "# с помощью логической индексации или сложные логические выражения в одну строку, если вы уже знакомы с ними).\n",
    "    track_list = df[df['city'] == city]\n",
    "    track_list = track_list[track_list['day'] == day]\n",
    "# В переменной track_list_count сохраняется число значений столбца 'user_id',\n",
    "# рассчитанное методом count() для таблицы track_list.\n",
    "# Функция возвращает число - значение track_list_count.\n",
    "    track_list_count = track_list['user_id'].count()\n",
    "# Функция для подсчёта прослушиваний для конкретного города и дня.\n",
    "    return track_list_count\n",
    "# С помощью последовательной фильтрации с логической индексацией она \n",
    "# сначала получит из исходной таблицы строки с нужным днём,\n",
    "# затем из результата отфильтрует строки с нужным городом,\n",
    "# методом count() посчитает количество значений в колонке user_id. \n",
    "# Это количество функция вернёт в качестве результата\n"
   ]
  },
  {
   "cell_type": "markdown",
   "metadata": {},
   "source": [
    "**Задание 21**\n",
    "\n",
    "Вызовите `number_tracks()` шесть раз, меняя значение параметров — так, чтобы получить данные для каждого города в каждый из трёх дней."
   ]
  },
  {
   "cell_type": "code",
   "execution_count": 60,
   "metadata": {},
   "outputs": [
    {
     "data": {
      "text/plain": [
       "15740"
      ]
     },
     "execution_count": 60,
     "metadata": {},
     "output_type": "execute_result"
    }
   ],
   "source": [
    "# количество прослушиваний в Москве по понедельникам\n",
    "number_tracks('Moscow', 'Monday')"
   ]
  },
  {
   "cell_type": "code",
   "execution_count": 61,
   "metadata": {},
   "outputs": [
    {
     "data": {
      "text/plain": [
       "5614"
      ]
     },
     "execution_count": 61,
     "metadata": {},
     "output_type": "execute_result"
    }
   ],
   "source": [
    "# количество прослушиваний в Санкт-Петербурге по понедельникам\n",
    "number_tracks('Saint-Petersburg', 'Monday')"
   ]
  },
  {
   "cell_type": "code",
   "execution_count": 62,
   "metadata": {},
   "outputs": [
    {
     "data": {
      "text/plain": [
       "11056"
      ]
     },
     "execution_count": 62,
     "metadata": {},
     "output_type": "execute_result"
    }
   ],
   "source": [
    "# количество прослушиваний в Москве по средам\n",
    "number_tracks('Moscow', 'Wednesday')"
   ]
  },
  {
   "cell_type": "code",
   "execution_count": 63,
   "metadata": {},
   "outputs": [
    {
     "data": {
      "text/plain": [
       "7003"
      ]
     },
     "execution_count": 63,
     "metadata": {},
     "output_type": "execute_result"
    }
   ],
   "source": [
    "# количество прослушиваний в Санкт-Петербурге по средам\n",
    "number_tracks('Saint-Petersburg', 'Wednesday')"
   ]
  },
  {
   "cell_type": "code",
   "execution_count": 64,
   "metadata": {},
   "outputs": [
    {
     "data": {
      "text/plain": [
       "15945"
      ]
     },
     "execution_count": 64,
     "metadata": {},
     "output_type": "execute_result"
    }
   ],
   "source": [
    "# количество прослушиваний в Москве по пятницам\n",
    "number_tracks('Moscow', 'Friday')"
   ]
  },
  {
   "cell_type": "code",
   "execution_count": 26,
   "metadata": {},
   "outputs": [
    {
     "data": {
      "text/plain": [
       "5895"
      ]
     },
     "execution_count": 26,
     "metadata": {},
     "output_type": "execute_result"
    }
   ],
   "source": [
    "# количество прослушиваний в Санкт-Петербурге по пятницам\n",
    "number_tracks('Saint-Petersburg', 'Friday')"
   ]
  },
  {
   "cell_type": "markdown",
   "metadata": {},
   "source": [
    "**Задание 22**\n",
    "\n",
    "Создайте c помощью конструктора `pd.DataFrame` таблицу, где\n",
    "* названия колонок — `['city', 'monday', 'wednesday', 'friday']`;\n",
    "* данные — результаты, которые вы получили с помощью `number_tracks`."
   ]
  },
  {
   "cell_type": "code",
   "execution_count": 65,
   "metadata": {},
   "outputs": [
    {
     "name": "stdout",
     "output_type": "stream",
     "text": [
      "              city  monday  wednesday  friday\n",
      "0           Москва   15740      11056   15945\n",
      "1  Санкт-Петербург    5614       7003    5895\n"
     ]
    }
   ],
   "source": [
    "# Таблица с результатами\n",
    "column = ['city', 'monday', 'wednesday', 'friday']\n",
    "data_number_tracks = [['Москва', 15740, 11056, 15945], ['Санкт-Петербург', 5614, 7003, 5895]]\n",
    "info = pd.DataFrame(data=data_number_tracks, columns=column)\n",
    "print (info)"
   ]
  },
  {
   "cell_type": "markdown",
   "metadata": {},
   "source": [
    "**Выводы**\n",
    "\n",
    "Данные показывают разницу поведения пользователей:\n",
    "\n",
    "- В Москве пик прослушиваний приходится на понедельник и пятницу, а в среду заметен спад.\n",
    "- В Петербурге, наоборот, больше слушают музыку по средам. Активность в понедельник и пятницу здесь почти в равной мере уступает среде.\n",
    "\n",
    "Значит, данные говорят в пользу первой гипотезы."
   ]
  },
  {
   "cell_type": "markdown",
   "metadata": {},
   "source": [
    "### Музыка в начале и в конце недели"
   ]
  },
  {
   "cell_type": "markdown",
   "metadata": {},
   "source": [
    "Согласно второй гипотезе, утром в понедельник в Москве преобладают одни жанры, а в Петербурге — другие. Так же и вечером пятницы преобладают разные жанры — в зависимости от города."
   ]
  },
  {
   "cell_type": "markdown",
   "metadata": {},
   "source": [
    "**Задание 23**\n",
    "\n",
    "Сохраните таблицы с данными в две переменные:\n",
    "* по Москве — в `moscow_general`;\n",
    "* по Санкт-Петербургу — в `spb_general`."
   ]
  },
  {
   "cell_type": "code",
   "execution_count": 66,
   "metadata": {},
   "outputs": [],
   "source": [
    "# получение таблицы moscow_general из тех строк таблицы df, \n",
    "# для которых значение в столбце 'city' равно 'Moscow'\n",
    "moscow_general = df[df['city'] == 'Moscow']\n"
   ]
  },
  {
   "cell_type": "code",
   "execution_count": 67,
   "metadata": {},
   "outputs": [],
   "source": [
    "# получение таблицы spb_general из тех строк таблицы df,\n",
    "# для которых значение в столбце 'city' равно 'Saint-Petersburg'\n",
    "spb_general = df[df['city'] == 'Saint-Petersburg']"
   ]
  },
  {
   "cell_type": "markdown",
   "metadata": {},
   "source": [
    "**Задание 24**\n",
    "\n",
    "Создайте функцию `genre_weekday()` с четырьмя параметрами:\n",
    "* таблица (датафрейм) с данными,\n",
    "* день недели,\n",
    "* начальная временная метка в формате 'hh:mm', \n",
    "* последняя временная метка в формате 'hh:mm'.\n",
    "\n",
    "Функция должна вернуть информацию о топ-10 жанров тех треков, которые прослушивали в указанный день, в промежутке между двумя отметками времени."
   ]
  },
  {
   "cell_type": "code",
   "execution_count": 68,
   "metadata": {},
   "outputs": [],
   "source": [
    "# Объявление функции genre_weekday() с параметрами table, day, time1, time2,\n",
    "# которая возвращает информацию о самых популярных жанрах в указанный день в\n",
    "# заданное время:\n",
    "# 1) в переменную genre_df сохраняются те строки переданного датафрейма table, для\n",
    "#    которых одновременно:\n",
    "#    - значение в столбце day равно значению аргумента day\n",
    "#    - значение в столбце time больше значения аргумента time1\n",
    "#    - значение в столбце time меньше значения аргумента time2\n",
    "#    Используйте последовательную фильтрацию с помощью логической индексации.\n",
    "# 2) сгруппировать датафрейм genre_df по столбцу genre, взять один из его\n",
    "#    столбцов и посчитать методом count() количество записей для каждого из\n",
    "#    присутствующих жанров, получившийся Series записать в переменную\n",
    "#    genre_df_count\n",
    "# 3) отсортировать genre_df_count по убыванию встречаемости и сохранить\n",
    "#    в переменную genre_df_sorted\n",
    "# 4) вернуть Series из 10 первых значений genre_df_sorted, это будут топ-10\n",
    "#    популярных жанров (в указанный день, в заданное время)\n",
    "\n",
    "def genre_weekday(df, day, time1, time2):\n",
    "    # последовательная фильтрация\n",
    "    # оставляем в genre_df только те строки df, у которых день равен day\n",
    "    genre_df = df[df['day'] == day]\n",
    "    # оставляем в genre_df только те строки genre_df, у которых время меньше time2\n",
    "    genre_df = genre_df[genre_df['time'] < time2]\n",
    "    # оставляем в genre_df только те строки genre_df, у которых время больше time1\n",
    "    genre_df = genre_df[genre_df['time'] > time1]\n",
    "    # сгруппируем отфильтрованный датафрейм по столбцу с названиями жанров, возьмём столбец genre и посчитаем кол-во строк для каждого жанра методом count()\n",
    "    genre_df_grouped = genre_df.groupby('genre')['genre'].count()\n",
    "    # отсортируем результат по убыванию (чтобы в начале Series оказались самые популярные жанры)\n",
    "    genre_df_sorted = genre_df_grouped.sort_values(ascending = False)\n",
    "    # вернём Series с 10 самыми популярными жанрами в указанный отрезок времени заданного дня\n",
    "    return genre_df_sorted[:10]"
   ]
  },
  {
   "cell_type": "markdown",
   "metadata": {},
   "source": [
    "**Задание 25**\n",
    "\n",
    "\n",
    "Cравните результаты функции `genre_weekday()` для Москвы и Санкт-Петербурга в понедельник утром (с 7:00 до 11:00) и в пятницу вечером (с 17:00 до 23:00):"
   ]
  },
  {
   "cell_type": "code",
   "execution_count": 69,
   "metadata": {},
   "outputs": [
    {
     "data": {
      "text/plain": [
       "genre\n",
       "pop            781\n",
       "dance          549\n",
       "electronic     480\n",
       "rock           474\n",
       "hiphop         286\n",
       "ruspop         186\n",
       "world          181\n",
       "rusrap         175\n",
       "alternative    164\n",
       "unknown        161\n",
       "Name: genre, dtype: int64"
      ]
     },
     "execution_count": 69,
     "metadata": {},
     "output_type": "execute_result"
    }
   ],
   "source": [
    "# вызов функции для утра понедельника в Москве (вместо df — таблица moscow_general)\n",
    "# объекты, хранящие время, являются строками и сравниваются как строки\n",
    "# пример вызова: genre_weekday(moscow_general, 'Monday', '07:00', '11:00')\n",
    "genre_weekday(moscow_general, 'Monday', '07:00', '11:00')"
   ]
  },
  {
   "cell_type": "code",
   "execution_count": 70,
   "metadata": {},
   "outputs": [
    {
     "data": {
      "text/plain": [
       "genre\n",
       "pop            218\n",
       "dance          182\n",
       "rock           162\n",
       "electronic     147\n",
       "hiphop          80\n",
       "ruspop          64\n",
       "alternative     58\n",
       "rusrap          55\n",
       "jazz            44\n",
       "classical       40\n",
       "Name: genre, dtype: int64"
      ]
     },
     "execution_count": 70,
     "metadata": {},
     "output_type": "execute_result"
    }
   ],
   "source": [
    "# вызов функции для утра понедельника в Петербурге (вместо df — таблица spb_general)\n",
    "genre_weekday(spb_general, 'Monday', '07:00', '11:00')"
   ]
  },
  {
   "cell_type": "code",
   "execution_count": 71,
   "metadata": {},
   "outputs": [
    {
     "data": {
      "text/plain": [
       "genre\n",
       "pop            713\n",
       "rock           517\n",
       "dance          495\n",
       "electronic     482\n",
       "hiphop         273\n",
       "world          208\n",
       "ruspop         170\n",
       "alternative    163\n",
       "classical      163\n",
       "rusrap         142\n",
       "Name: genre, dtype: int64"
      ]
     },
     "execution_count": 71,
     "metadata": {},
     "output_type": "execute_result"
    }
   ],
   "source": [
    "# вызов функции для вечера пятницы в Москве\n",
    "genre_weekday(moscow_general, 'Friday', '17:00', '23:00')"
   ]
  },
  {
   "cell_type": "code",
   "execution_count": 72,
   "metadata": {},
   "outputs": [
    {
     "data": {
      "text/plain": [
       "genre\n",
       "pop            256\n",
       "electronic     216\n",
       "rock           216\n",
       "dance          210\n",
       "hiphop          97\n",
       "alternative     63\n",
       "jazz            61\n",
       "classical       60\n",
       "rusrap          59\n",
       "world           54\n",
       "Name: genre, dtype: int64"
      ]
     },
     "execution_count": 72,
     "metadata": {},
     "output_type": "execute_result"
    }
   ],
   "source": [
    "# вызов функции для вечера пятницы в Петербурге\n",
    "genre_weekday(spb_general, 'Friday', '17:00', '23:00')"
   ]
  },
  {
   "cell_type": "markdown",
   "metadata": {},
   "source": [
    "**Выводы**\n",
    "\n",
    "Если сравнить топ-10 жанров в понедельник утром, можно сделать такие выводы:\n",
    "\n",
    "1. В Москве и Петербурге слушают похожую музыку. Единственное отличие — в московский рейтинг вошёл жанр “world”, а в петербургский — джаз и классика.\n",
    "\n",
    "2. В Москве пропущенных значений оказалось так много, что значение `'unknown'` заняло десятое место среди самых популярных жанров. Значит, пропущенные значения занимают существенную долю в данных и угрожают достоверности исследования.\n",
    "\n",
    "Вечер пятницы не меняет эту картину. Некоторые жанры поднимаются немного выше, другие спускаются, но в целом топ-10 остаётся тем же самым.\n",
    "\n",
    "Таким образом, вторая гипотеза подтвердилась лишь частично:\n",
    "* Пользователи слушают похожую музыку в начале недели и в конце.\n",
    "* Разница между Москвой и Петербургом не слишком выражена. В Москве чаще слушают русскую популярную музыку, в Петербурге — джаз.\n",
    "\n",
    "Однако пропуски в данных ставят под сомнение этот результат. В Москве их так много, что рейтинг топ-10 мог бы выглядеть иначе, если бы не утерянные  данные о жанрах."
   ]
  },
  {
   "cell_type": "markdown",
   "metadata": {},
   "source": [
    "### Жанровые предпочтения в Москве и Петербурге\n",
    "\n",
    "Гипотеза: Петербург — столица рэпа, музыку этого жанра там слушают чаще, чем в Москве.  А Москва — город контрастов, в котором, тем не менее, преобладает поп-музыка."
   ]
  },
  {
   "cell_type": "markdown",
   "metadata": {},
   "source": [
    "**Задание 26**\n",
    "\n",
    "Сгруппируйте таблицу `moscow_general` по жанру и посчитайте прослушивания треков каждого жанра методом `count()`. Затем отсортируйте результат в порядке убывания и сохраните его в таблице `moscow_genres`."
   ]
  },
  {
   "cell_type": "code",
   "execution_count": 74,
   "metadata": {},
   "outputs": [],
   "source": [
    "# одной строкой: группировка таблицы moscow_general по столбцу 'genre', \n",
    "# подсчёт числа значений 'genre' в этой группировке методом count(), \n",
    "# сортировка получившегося Series в порядке убывания и сохранение в moscow_genres\n",
    "moscow_genres = moscow_general.groupby('genre')['genre'].count().sort_values(ascending=False)"
   ]
  },
  {
   "cell_type": "markdown",
   "metadata": {},
   "source": [
    "**Задание 27**\n",
    "\n",
    "Выведите на экран первые десять строк `moscow_genres`:"
   ]
  },
  {
   "cell_type": "code",
   "execution_count": 75,
   "metadata": {
    "deletable": false,
    "id": "WhCSooF8_Zcv"
   },
   "outputs": [
    {
     "data": {
      "text/plain": [
       "genre\n",
       "pop            5892\n",
       "dance          4435\n",
       "rock           3965\n",
       "electronic     3786\n",
       "hiphop         2096\n",
       "classical      1616\n",
       "world          1432\n",
       "alternative    1379\n",
       "ruspop         1372\n",
       "rusrap         1161\n",
       "Name: genre, dtype: int64"
      ]
     },
     "execution_count": 75,
     "metadata": {},
     "output_type": "execute_result"
    }
   ],
   "source": [
    "# просмотр первых 10 строк moscow_genres\n",
    "moscow_genres.head(10)"
   ]
  },
  {
   "cell_type": "markdown",
   "metadata": {},
   "source": [
    "**Задание 28**\n",
    "\n",
    "\n",
    "Теперь повторите то же и для Петербурга.\n",
    "\n",
    "Сгруппируйте таблицу `spb_general` по жанру. Посчитайте прослушивания треков каждого жанра. Результат отсортируйте в порядке убывания и сохраните в таблице `spb_genres`:\n"
   ]
  },
  {
   "cell_type": "code",
   "execution_count": 76,
   "metadata": {},
   "outputs": [],
   "source": [
    "# одной строкой: группировка таблицы spb_general по столбцу 'genre', \n",
    "# подсчёт числа значений 'genre' в этой группировке методом count(), \n",
    "# сортировка получившегося Series в порядке убывания и сохранение в spb_genres\n",
    "spb_genres = spb_general.groupby('genre')['genre'].count().sort_values(ascending=False)"
   ]
  },
  {
   "cell_type": "markdown",
   "metadata": {},
   "source": [
    "**Задание 29**\n",
    "\n",
    "Выведите на экран первые десять строк `spb_genres`:"
   ]
  },
  {
   "cell_type": "code",
   "execution_count": 77,
   "metadata": {},
   "outputs": [
    {
     "data": {
      "text/plain": [
       "genre\n",
       "pop              2431\n",
       "dance            1932\n",
       "rock             1879\n",
       "electronic       1736\n",
       "hiphop            960\n",
       "                 ... \n",
       "international       1\n",
       "independent         1\n",
       "idm                 1\n",
       "gypsy               1\n",
       "электроника         1\n",
       "Name: genre, Length: 211, dtype: int64"
      ]
     },
     "execution_count": 77,
     "metadata": {},
     "output_type": "execute_result"
    }
   ],
   "source": [
    "# просмотр первых 10 строк spb_genres\n",
    "spb_genres"
   ]
  },
  {
   "cell_type": "markdown",
   "metadata": {},
   "source": [
    "**Выводы**"
   ]
  },
  {
   "cell_type": "markdown",
   "metadata": {},
   "source": [
    "Гипотеза частично подтвердилась:\n",
    "* Поп-музыка — самый популярный жанр в Москве, как и предполагала гипотеза. Более того, в топ-10 жанров встречается близкий жанр — русская популярная музыка.\n",
    "* Вопреки ожиданиям, рэп одинаково популярен в Москве и Петербурге. \n"
   ]
  },
  {
   "cell_type": "markdown",
   "metadata": {},
   "source": [
    "## Итоги исследования"
   ]
  },
  {
   "cell_type": "markdown",
   "metadata": {},
   "source": [
    "Вы проверили три гипотезы и установили:\n",
    "\n",
    "1. День недели по-разному влияет на активность пользователей в Москве и Петербурге. \n",
    "\n",
    "Первая гипотеза полностью подтвердилась.\n",
    "\n",
    "2. Музыкальные предпочтения не сильно меняются в течение недели — будь то Москва или Петербург. Небольшие различия заметны в начале недели, по понедельникам:\n",
    "* в Москве слушают музыку жанра “world”,\n",
    "* в Петербурге — джаз и классику.\n",
    "\n",
    "Таким образом, вторая гипотеза подтвердилась лишь отчасти. Этот результат мог оказаться иным, если бы не пропуски в данных.\n",
    "\n",
    "3. Во вкусах пользователей Москвы и Петербурга больше общего чем различий. Вопреки ожиданиям, предпочтения жанров в Петербурге напоминают московские.\n",
    "\n",
    "Третья гипотеза не подтвердилась. Если различия в предпочтениях и существуют, на основной массе пользователей они незаметны.\n",
    "\n",
    "**На практике исследования содержат проверки статистических гипотез.**\n",
    "Из данных одного сервиса не всегда можно сделать вывод о всех жителях города.\n",
    "Проверки статистических гипотез покажут, насколько они достоверны, исходя из имеющихся данных. \n",
    "С методами проверок гипотез вы ещё познакомитесь в следующих темах."
   ]
  }
 ],
 "metadata": {
  "ExecuteTimeLog": [
   {
    "duration": 449,
    "start_time": "2022-10-25T08:24:08.208Z"
   },
   {
    "duration": 3,
    "start_time": "2022-10-25T08:24:10.794Z"
   },
   {
    "duration": 299,
    "start_time": "2022-10-25T08:24:13.755Z"
   },
   {
    "duration": 71,
    "start_time": "2022-10-25T08:24:16.011Z"
   },
   {
    "duration": 11,
    "start_time": "2022-10-25T08:24:36.861Z"
   },
   {
    "duration": 26,
    "start_time": "2022-10-25T08:36:48.781Z"
   },
   {
    "duration": 4,
    "start_time": "2022-10-25T08:48:33.215Z"
   },
   {
    "duration": 13,
    "start_time": "2022-10-25T08:51:21.602Z"
   },
   {
    "duration": 13,
    "start_time": "2022-10-25T08:51:25.320Z"
   },
   {
    "duration": 3,
    "start_time": "2022-10-25T08:51:26.734Z"
   },
   {
    "duration": 11,
    "start_time": "2022-10-25T08:52:08.089Z"
   },
   {
    "duration": 8,
    "start_time": "2022-10-25T08:52:48.440Z"
   },
   {
    "duration": 42,
    "start_time": "2022-10-25T08:53:22.486Z"
   },
   {
    "duration": 49,
    "start_time": "2022-10-25T09:04:36.724Z"
   },
   {
    "duration": 1137,
    "start_time": "2022-10-25T09:05:36.408Z"
   },
   {
    "duration": 1772,
    "start_time": "2022-10-25T09:07:02.646Z"
   },
   {
    "duration": 7,
    "start_time": "2022-10-25T09:09:41.363Z"
   },
   {
    "duration": 32,
    "start_time": "2022-10-25T09:25:27.422Z"
   },
   {
    "duration": 27,
    "start_time": "2022-10-25T09:25:31.371Z"
   },
   {
    "duration": 39,
    "start_time": "2022-10-25T09:25:37.617Z"
   },
   {
    "duration": 21,
    "start_time": "2022-10-25T09:29:27.342Z"
   },
   {
    "duration": 21,
    "start_time": "2022-10-25T09:29:54.455Z"
   },
   {
    "duration": 74,
    "start_time": "2022-10-25T09:29:56.462Z"
   },
   {
    "duration": 37,
    "start_time": "2022-10-25T09:29:58.612Z"
   },
   {
    "duration": 43,
    "start_time": "2022-10-25T09:30:46.436Z"
   },
   {
    "duration": 33,
    "start_time": "2022-10-25T09:30:58.498Z"
   },
   {
    "duration": 86,
    "start_time": "2022-10-25T09:40:29.392Z"
   },
   {
    "duration": 85,
    "start_time": "2022-10-25T09:41:14.155Z"
   },
   {
    "duration": 82,
    "start_time": "2022-10-25T09:41:25.341Z"
   },
   {
    "duration": 75,
    "start_time": "2022-10-25T09:47:17.544Z"
   },
   {
    "duration": 92,
    "start_time": "2022-10-25T09:47:33.791Z"
   },
   {
    "duration": 105,
    "start_time": "2022-10-25T09:47:56.964Z"
   },
   {
    "duration": 62,
    "start_time": "2022-10-25T09:54:10.330Z"
   },
   {
    "duration": 103,
    "start_time": "2022-10-25T09:55:50.138Z"
   },
   {
    "duration": 74,
    "start_time": "2022-10-25T09:55:59.493Z"
   },
   {
    "duration": 8,
    "start_time": "2022-10-25T09:57:44.142Z"
   },
   {
    "duration": 61,
    "start_time": "2022-10-25T09:57:48.356Z"
   },
   {
    "duration": 66,
    "start_time": "2022-10-25T09:57:59.909Z"
   },
   {
    "duration": 23,
    "start_time": "2022-10-25T10:02:04.062Z"
   },
   {
    "duration": 8,
    "start_time": "2022-10-25T10:34:22.559Z"
   },
   {
    "duration": 5,
    "start_time": "2022-10-25T10:34:35.389Z"
   },
   {
    "duration": 10,
    "start_time": "2022-10-25T10:37:44.183Z"
   },
   {
    "duration": 10,
    "start_time": "2022-10-25T10:39:36.738Z"
   },
   {
    "duration": 38,
    "start_time": "2022-10-25T10:39:51.106Z"
   },
   {
    "duration": 738,
    "start_time": "2022-10-25T10:51:43.508Z"
   },
   {
    "duration": 796,
    "start_time": "2022-10-25T10:52:25.052Z"
   },
   {
    "duration": 21,
    "start_time": "2022-10-25T10:52:43.939Z"
   },
   {
    "duration": 21,
    "start_time": "2022-10-25T10:54:44.701Z"
   },
   {
    "duration": 48,
    "start_time": "2022-10-25T10:55:57.844Z"
   },
   {
    "duration": 48,
    "start_time": "2022-10-25T10:57:14.719Z"
   },
   {
    "duration": 38,
    "start_time": "2022-10-25T10:58:00.703Z"
   },
   {
    "duration": 31,
    "start_time": "2022-10-25T12:07:30.893Z"
   },
   {
    "duration": 27,
    "start_time": "2022-10-25T12:08:04.171Z"
   },
   {
    "duration": 30,
    "start_time": "2022-10-25T12:11:36.816Z"
   },
   {
    "duration": 77,
    "start_time": "2022-10-25T12:13:36.720Z"
   },
   {
    "duration": 10,
    "start_time": "2022-10-25T12:19:05.718Z"
   },
   {
    "duration": 8,
    "start_time": "2022-10-25T12:21:25.528Z"
   },
   {
    "duration": 9,
    "start_time": "2022-10-25T12:22:27.635Z"
   },
   {
    "duration": 10,
    "start_time": "2022-10-25T12:23:09.231Z"
   },
   {
    "duration": 10,
    "start_time": "2022-10-25T12:23:40.511Z"
   },
   {
    "duration": 17,
    "start_time": "2022-10-25T12:24:52.185Z"
   },
   {
    "duration": 61,
    "start_time": "2022-10-25T17:25:51.335Z"
   },
   {
    "duration": 7,
    "start_time": "2022-10-25T17:26:30.514Z"
   },
   {
    "duration": 6,
    "start_time": "2022-10-25T17:26:52.373Z"
   },
   {
    "duration": 6,
    "start_time": "2022-10-25T17:26:54.349Z"
   },
   {
    "duration": 6,
    "start_time": "2022-10-25T17:33:07.610Z"
   },
   {
    "duration": 422,
    "start_time": "2022-10-25T17:33:31.145Z"
   },
   {
    "duration": 902,
    "start_time": "2022-10-25T17:33:31.569Z"
   },
   {
    "duration": 8,
    "start_time": "2022-10-25T17:33:32.473Z"
   },
   {
    "duration": 35,
    "start_time": "2022-10-25T17:33:32.483Z"
   },
   {
    "duration": 3,
    "start_time": "2022-10-25T17:33:32.520Z"
   },
   {
    "duration": 24,
    "start_time": "2022-10-25T17:33:32.525Z"
   },
   {
    "duration": 21,
    "start_time": "2022-10-25T17:33:32.551Z"
   },
   {
    "duration": 26,
    "start_time": "2022-10-25T17:33:32.574Z"
   },
   {
    "duration": 53,
    "start_time": "2022-10-25T17:33:32.601Z"
   },
   {
    "duration": 36,
    "start_time": "2022-10-25T17:33:32.656Z"
   },
   {
    "duration": 60,
    "start_time": "2022-10-25T17:33:32.694Z"
   },
   {
    "duration": 99,
    "start_time": "2022-10-25T17:33:32.756Z"
   },
   {
    "duration": 108,
    "start_time": "2022-10-25T17:33:32.857Z"
   },
   {
    "duration": 70,
    "start_time": "2022-10-25T17:33:32.968Z"
   },
   {
    "duration": 42,
    "start_time": "2022-10-25T17:33:33.039Z"
   },
   {
    "duration": 64,
    "start_time": "2022-10-25T17:33:33.083Z"
   },
   {
    "duration": 39,
    "start_time": "2022-10-25T17:33:33.148Z"
   },
   {
    "duration": 12,
    "start_time": "2022-10-25T17:33:33.189Z"
   },
   {
    "duration": 19,
    "start_time": "2022-10-25T17:33:33.225Z"
   },
   {
    "duration": 17,
    "start_time": "2022-10-25T17:33:33.245Z"
   },
   {
    "duration": 26,
    "start_time": "2022-10-25T17:33:33.264Z"
   },
   {
    "duration": 22,
    "start_time": "2022-10-25T17:33:33.291Z"
   },
   {
    "duration": 7,
    "start_time": "2022-10-25T17:33:33.315Z"
   },
   {
    "duration": 3,
    "start_time": "2022-10-25T17:33:33.324Z"
   },
   {
    "duration": 8,
    "start_time": "2022-10-25T17:33:33.329Z"
   },
   {
    "duration": 3,
    "start_time": "2022-10-25T17:33:33.339Z"
   },
   {
    "duration": 3,
    "start_time": "2022-10-25T17:33:33.345Z"
   },
   {
    "duration": 12,
    "start_time": "2022-10-25T17:33:33.350Z"
   },
   {
    "duration": 7,
    "start_time": "2022-10-25T17:33:33.363Z"
   },
   {
    "duration": 78,
    "start_time": "2022-10-25T17:33:33.371Z"
   },
   {
    "duration": 0,
    "start_time": "2022-10-25T17:33:33.450Z"
   },
   {
    "duration": 0,
    "start_time": "2022-10-25T17:33:33.452Z"
   },
   {
    "duration": 0,
    "start_time": "2022-10-25T17:33:33.452Z"
   },
   {
    "duration": 0,
    "start_time": "2022-10-25T17:33:33.454Z"
   },
   {
    "duration": 0,
    "start_time": "2022-10-25T17:33:33.455Z"
   },
   {
    "duration": 0,
    "start_time": "2022-10-25T17:33:33.456Z"
   },
   {
    "duration": 0,
    "start_time": "2022-10-25T17:33:33.457Z"
   },
   {
    "duration": 0,
    "start_time": "2022-10-25T17:33:33.458Z"
   },
   {
    "duration": 88,
    "start_time": "2022-10-25T18:04:22.269Z"
   },
   {
    "duration": 5,
    "start_time": "2022-10-25T18:04:33.630Z"
   },
   {
    "duration": 64,
    "start_time": "2022-10-25T18:13:41.166Z"
   },
   {
    "duration": 4,
    "start_time": "2022-10-25T18:13:55.338Z"
   },
   {
    "duration": 4,
    "start_time": "2022-10-25T18:16:59.368Z"
   },
   {
    "duration": 5,
    "start_time": "2022-10-25T18:18:13.922Z"
   },
   {
    "duration": 6,
    "start_time": "2022-10-25T18:27:11.677Z"
   },
   {
    "duration": 75,
    "start_time": "2022-10-25T18:32:16.869Z"
   },
   {
    "duration": 74,
    "start_time": "2022-10-25T18:32:31.525Z"
   },
   {
    "duration": 86,
    "start_time": "2022-10-25T18:32:56.384Z"
   },
   {
    "duration": 72,
    "start_time": "2022-10-25T18:33:04.235Z"
   },
   {
    "duration": 82,
    "start_time": "2022-10-26T07:15:16.086Z"
   },
   {
    "duration": 76,
    "start_time": "2022-10-26T07:15:27.042Z"
   },
   {
    "duration": 65,
    "start_time": "2022-10-26T07:15:51.397Z"
   },
   {
    "duration": 70,
    "start_time": "2022-10-26T07:15:59.054Z"
   },
   {
    "duration": 46,
    "start_time": "2022-10-26T07:16:28.161Z"
   },
   {
    "duration": 8,
    "start_time": "2022-10-26T07:16:41.989Z"
   },
   {
    "duration": 9,
    "start_time": "2022-10-26T07:19:36.539Z"
   },
   {
    "duration": 8,
    "start_time": "2022-10-26T10:11:27.955Z"
   },
   {
    "duration": 56,
    "start_time": "2022-10-26T10:13:31.883Z"
   },
   {
    "duration": 10,
    "start_time": "2022-10-26T10:14:01.834Z"
   },
   {
    "duration": 454,
    "start_time": "2022-10-26T10:14:20.703Z"
   },
   {
    "duration": 197,
    "start_time": "2022-10-26T10:14:21.159Z"
   },
   {
    "duration": 10,
    "start_time": "2022-10-26T10:14:21.357Z"
   },
   {
    "duration": 38,
    "start_time": "2022-10-26T10:14:21.370Z"
   },
   {
    "duration": 3,
    "start_time": "2022-10-26T10:14:21.427Z"
   },
   {
    "duration": 15,
    "start_time": "2022-10-26T10:14:21.432Z"
   },
   {
    "duration": 21,
    "start_time": "2022-10-26T10:14:21.448Z"
   },
   {
    "duration": 21,
    "start_time": "2022-10-26T10:14:21.471Z"
   },
   {
    "duration": 47,
    "start_time": "2022-10-26T10:14:21.494Z"
   },
   {
    "duration": 35,
    "start_time": "2022-10-26T10:14:21.545Z"
   },
   {
    "duration": 43,
    "start_time": "2022-10-26T10:14:21.582Z"
   },
   {
    "duration": 107,
    "start_time": "2022-10-26T10:14:21.627Z"
   },
   {
    "duration": 120,
    "start_time": "2022-10-26T10:14:21.735Z"
   },
   {
    "duration": 93,
    "start_time": "2022-10-26T10:14:21.858Z"
   },
   {
    "duration": 55,
    "start_time": "2022-10-26T10:14:21.953Z"
   },
   {
    "duration": 76,
    "start_time": "2022-10-26T10:14:22.011Z"
   },
   {
    "duration": 63,
    "start_time": "2022-10-26T10:14:22.089Z"
   },
   {
    "duration": 14,
    "start_time": "2022-10-26T10:14:22.155Z"
   },
   {
    "duration": 15,
    "start_time": "2022-10-26T10:14:22.171Z"
   },
   {
    "duration": 5,
    "start_time": "2022-10-26T10:14:22.188Z"
   },
   {
    "duration": 37,
    "start_time": "2022-10-26T10:14:22.194Z"
   },
   {
    "duration": 14,
    "start_time": "2022-10-26T10:14:22.234Z"
   },
   {
    "duration": 13,
    "start_time": "2022-10-26T10:14:22.250Z"
   },
   {
    "duration": 16,
    "start_time": "2022-10-26T10:14:22.265Z"
   },
   {
    "duration": 11,
    "start_time": "2022-10-26T10:14:22.283Z"
   },
   {
    "duration": 29,
    "start_time": "2022-10-26T10:14:22.296Z"
   },
   {
    "duration": 5,
    "start_time": "2022-10-26T10:14:22.327Z"
   },
   {
    "duration": 6,
    "start_time": "2022-10-26T10:14:22.336Z"
   },
   {
    "duration": 5,
    "start_time": "2022-10-26T10:14:22.344Z"
   },
   {
    "duration": 401,
    "start_time": "2022-10-26T10:14:22.351Z"
   },
   {
    "duration": 0,
    "start_time": "2022-10-26T10:14:22.754Z"
   },
   {
    "duration": 0,
    "start_time": "2022-10-26T10:14:22.756Z"
   },
   {
    "duration": 0,
    "start_time": "2022-10-26T10:14:22.757Z"
   },
   {
    "duration": 0,
    "start_time": "2022-10-26T10:14:22.759Z"
   },
   {
    "duration": 0,
    "start_time": "2022-10-26T10:14:22.760Z"
   },
   {
    "duration": 0,
    "start_time": "2022-10-26T10:14:22.761Z"
   },
   {
    "duration": 0,
    "start_time": "2022-10-26T10:14:22.763Z"
   },
   {
    "duration": 0,
    "start_time": "2022-10-26T10:14:22.764Z"
   },
   {
    "duration": 9,
    "start_time": "2022-10-26T10:14:33.006Z"
   },
   {
    "duration": 10,
    "start_time": "2022-10-26T10:14:34.541Z"
   },
   {
    "duration": 8,
    "start_time": "2022-10-26T10:14:35.157Z"
   },
   {
    "duration": 23,
    "start_time": "2022-10-26T10:15:35.171Z"
   },
   {
    "duration": 16,
    "start_time": "2022-10-26T10:15:36.198Z"
   },
   {
    "duration": 26,
    "start_time": "2022-10-26T10:15:36.805Z"
   },
   {
    "duration": 20,
    "start_time": "2022-10-26T10:15:37.390Z"
   },
   {
    "duration": 23,
    "start_time": "2022-10-26T10:15:37.957Z"
   },
   {
    "duration": 15,
    "start_time": "2022-10-26T10:15:38.532Z"
   },
   {
    "duration": 76,
    "start_time": "2022-10-26T10:29:10.285Z"
   },
   {
    "duration": 9,
    "start_time": "2022-10-26T10:29:56.429Z"
   },
   {
    "duration": 9,
    "start_time": "2022-10-26T10:32:02.779Z"
   },
   {
    "duration": 14,
    "start_time": "2022-10-26T10:41:51.159Z"
   },
   {
    "duration": 77,
    "start_time": "2022-10-26T10:42:50.965Z"
   },
   {
    "duration": 8,
    "start_time": "2022-10-26T10:44:09.856Z"
   },
   {
    "duration": 90,
    "start_time": "2022-10-26T10:56:08.292Z"
   },
   {
    "duration": 12,
    "start_time": "2022-10-26T12:00:15.728Z"
   },
   {
    "duration": 8,
    "start_time": "2022-10-26T12:01:32.332Z"
   },
   {
    "duration": 24,
    "start_time": "2022-10-26T12:02:31.314Z"
   },
   {
    "duration": 15,
    "start_time": "2022-10-26T12:02:32.523Z"
   },
   {
    "duration": 20,
    "start_time": "2022-10-26T12:02:33.202Z"
   },
   {
    "duration": 17,
    "start_time": "2022-10-26T12:02:33.826Z"
   },
   {
    "duration": 21,
    "start_time": "2022-10-26T12:02:34.426Z"
   },
   {
    "duration": 16,
    "start_time": "2022-10-26T12:02:35.674Z"
   },
   {
    "duration": 15,
    "start_time": "2022-10-26T12:03:36.347Z"
   },
   {
    "duration": 9,
    "start_time": "2022-10-26T12:05:26.592Z"
   },
   {
    "duration": 417,
    "start_time": "2022-10-26T12:05:37.379Z"
   },
   {
    "duration": 184,
    "start_time": "2022-10-26T12:05:37.798Z"
   },
   {
    "duration": 8,
    "start_time": "2022-10-26T12:05:37.984Z"
   },
   {
    "duration": 48,
    "start_time": "2022-10-26T12:05:37.995Z"
   },
   {
    "duration": 18,
    "start_time": "2022-10-26T12:05:38.045Z"
   },
   {
    "duration": 5,
    "start_time": "2022-10-26T12:05:38.065Z"
   },
   {
    "duration": 51,
    "start_time": "2022-10-26T12:05:38.072Z"
   },
   {
    "duration": 28,
    "start_time": "2022-10-26T12:05:38.125Z"
   },
   {
    "duration": 70,
    "start_time": "2022-10-26T12:05:38.155Z"
   },
   {
    "duration": 38,
    "start_time": "2022-10-26T12:05:38.228Z"
   },
   {
    "duration": 57,
    "start_time": "2022-10-26T12:05:38.268Z"
   },
   {
    "duration": 72,
    "start_time": "2022-10-26T12:05:38.327Z"
   },
   {
    "duration": 116,
    "start_time": "2022-10-26T12:05:38.401Z"
   },
   {
    "duration": 61,
    "start_time": "2022-10-26T12:05:38.524Z"
   },
   {
    "duration": 56,
    "start_time": "2022-10-26T12:05:38.587Z"
   },
   {
    "duration": 52,
    "start_time": "2022-10-26T12:05:38.645Z"
   },
   {
    "duration": 57,
    "start_time": "2022-10-26T12:05:38.698Z"
   },
   {
    "duration": 12,
    "start_time": "2022-10-26T12:05:38.756Z"
   },
   {
    "duration": 14,
    "start_time": "2022-10-26T12:05:38.770Z"
   },
   {
    "duration": 23,
    "start_time": "2022-10-26T12:05:38.785Z"
   },
   {
    "duration": 44,
    "start_time": "2022-10-26T12:05:38.810Z"
   },
   {
    "duration": 15,
    "start_time": "2022-10-26T12:05:38.856Z"
   },
   {
    "duration": 40,
    "start_time": "2022-10-26T12:05:38.872Z"
   },
   {
    "duration": 22,
    "start_time": "2022-10-26T12:05:38.913Z"
   },
   {
    "duration": 30,
    "start_time": "2022-10-26T12:05:38.937Z"
   },
   {
    "duration": 16,
    "start_time": "2022-10-26T12:05:38.969Z"
   },
   {
    "duration": 92,
    "start_time": "2022-10-26T12:05:38.987Z"
   },
   {
    "duration": 0,
    "start_time": "2022-10-26T12:05:39.081Z"
   },
   {
    "duration": 0,
    "start_time": "2022-10-26T12:05:39.083Z"
   },
   {
    "duration": 0,
    "start_time": "2022-10-26T12:05:39.084Z"
   },
   {
    "duration": 0,
    "start_time": "2022-10-26T12:05:39.085Z"
   },
   {
    "duration": 0,
    "start_time": "2022-10-26T12:05:39.086Z"
   },
   {
    "duration": 0,
    "start_time": "2022-10-26T12:05:39.087Z"
   },
   {
    "duration": 0,
    "start_time": "2022-10-26T12:05:39.088Z"
   },
   {
    "duration": 0,
    "start_time": "2022-10-26T12:05:39.089Z"
   },
   {
    "duration": 0,
    "start_time": "2022-10-26T12:05:39.090Z"
   },
   {
    "duration": 0,
    "start_time": "2022-10-26T12:05:39.091Z"
   },
   {
    "duration": 0,
    "start_time": "2022-10-26T12:05:39.092Z"
   },
   {
    "duration": 24,
    "start_time": "2022-10-26T12:05:48.504Z"
   },
   {
    "duration": 15,
    "start_time": "2022-10-26T12:05:49.312Z"
   },
   {
    "duration": 21,
    "start_time": "2022-10-26T12:05:49.960Z"
   },
   {
    "duration": 17,
    "start_time": "2022-10-26T12:05:50.471Z"
   },
   {
    "duration": 22,
    "start_time": "2022-10-26T12:05:51.055Z"
   },
   {
    "duration": 16,
    "start_time": "2022-10-26T12:05:53.768Z"
   },
   {
    "duration": 4,
    "start_time": "2022-10-26T12:07:55.963Z"
   },
   {
    "duration": 577,
    "start_time": "2022-10-26T12:08:15.792Z"
   },
   {
    "duration": 37,
    "start_time": "2022-10-26T12:09:13.982Z"
   },
   {
    "duration": 36,
    "start_time": "2022-10-26T12:09:39.762Z"
   },
   {
    "duration": 37,
    "start_time": "2022-10-26T12:09:55.281Z"
   },
   {
    "duration": 37,
    "start_time": "2022-10-26T12:10:34.689Z"
   },
   {
    "duration": 36,
    "start_time": "2022-10-26T12:11:06.980Z"
   },
   {
    "duration": 33,
    "start_time": "2022-10-26T12:11:32.080Z"
   },
   {
    "duration": 4,
    "start_time": "2022-10-26T12:17:58.845Z"
   },
   {
    "duration": 7,
    "start_time": "2022-10-26T12:18:59.525Z"
   },
   {
    "duration": 9,
    "start_time": "2022-10-26T12:25:15.654Z"
   },
   {
    "duration": 24,
    "start_time": "2022-10-26T12:28:26.658Z"
   },
   {
    "duration": 10,
    "start_time": "2022-10-26T12:28:58.701Z"
   },
   {
    "duration": 6,
    "start_time": "2022-10-26T12:52:30.511Z"
   },
   {
    "duration": 4,
    "start_time": "2022-10-26T12:54:08.785Z"
   },
   {
    "duration": 35,
    "start_time": "2022-10-26T12:56:38.646Z"
   },
   {
    "duration": 20,
    "start_time": "2022-10-26T12:57:04.834Z"
   },
   {
    "duration": 17,
    "start_time": "2022-10-26T12:58:24.824Z"
   },
   {
    "duration": 27,
    "start_time": "2022-10-26T12:58:26.605Z"
   },
   {
    "duration": 9,
    "start_time": "2022-10-26T13:10:08.442Z"
   },
   {
    "duration": 45,
    "start_time": "2022-10-26T13:11:49.323Z"
   },
   {
    "duration": 6,
    "start_time": "2022-10-26T13:12:03.324Z"
   },
   {
    "duration": 423,
    "start_time": "2022-10-26T13:12:24.144Z"
   },
   {
    "duration": 173,
    "start_time": "2022-10-26T13:12:24.569Z"
   },
   {
    "duration": 9,
    "start_time": "2022-10-26T13:12:24.744Z"
   },
   {
    "duration": 71,
    "start_time": "2022-10-26T13:12:24.755Z"
   },
   {
    "duration": 8,
    "start_time": "2022-10-26T13:12:24.828Z"
   },
   {
    "duration": 31,
    "start_time": "2022-10-26T13:12:24.838Z"
   },
   {
    "duration": 26,
    "start_time": "2022-10-26T13:12:24.870Z"
   },
   {
    "duration": 26,
    "start_time": "2022-10-26T13:12:24.898Z"
   },
   {
    "duration": 50,
    "start_time": "2022-10-26T13:12:24.925Z"
   },
   {
    "duration": 51,
    "start_time": "2022-10-26T13:12:24.978Z"
   },
   {
    "duration": 49,
    "start_time": "2022-10-26T13:12:25.030Z"
   },
   {
    "duration": 86,
    "start_time": "2022-10-26T13:12:25.080Z"
   },
   {
    "duration": 88,
    "start_time": "2022-10-26T13:12:25.168Z"
   },
   {
    "duration": 69,
    "start_time": "2022-10-26T13:12:25.258Z"
   },
   {
    "duration": 44,
    "start_time": "2022-10-26T13:12:25.328Z"
   },
   {
    "duration": 75,
    "start_time": "2022-10-26T13:12:25.373Z"
   },
   {
    "duration": 40,
    "start_time": "2022-10-26T13:12:25.450Z"
   },
   {
    "duration": 34,
    "start_time": "2022-10-26T13:12:25.491Z"
   },
   {
    "duration": 20,
    "start_time": "2022-10-26T13:12:25.527Z"
   },
   {
    "duration": 13,
    "start_time": "2022-10-26T13:12:25.549Z"
   },
   {
    "duration": 48,
    "start_time": "2022-10-26T13:12:25.564Z"
   },
   {
    "duration": 28,
    "start_time": "2022-10-26T13:12:25.614Z"
   },
   {
    "duration": 35,
    "start_time": "2022-10-26T13:12:25.643Z"
   },
   {
    "duration": 23,
    "start_time": "2022-10-26T13:12:25.680Z"
   },
   {
    "duration": 36,
    "start_time": "2022-10-26T13:12:25.704Z"
   },
   {
    "duration": 15,
    "start_time": "2022-10-26T13:12:25.741Z"
   },
   {
    "duration": 13,
    "start_time": "2022-10-26T13:12:25.757Z"
   },
   {
    "duration": 24,
    "start_time": "2022-10-26T13:12:25.774Z"
   },
   {
    "duration": 34,
    "start_time": "2022-10-26T13:12:25.800Z"
   },
   {
    "duration": 14,
    "start_time": "2022-10-26T13:12:25.836Z"
   },
   {
    "duration": 56,
    "start_time": "2022-10-26T13:12:25.852Z"
   },
   {
    "duration": 22,
    "start_time": "2022-10-26T13:12:25.910Z"
   },
   {
    "duration": 34,
    "start_time": "2022-10-26T13:12:25.933Z"
   },
   {
    "duration": 17,
    "start_time": "2022-10-26T13:12:25.968Z"
   },
   {
    "duration": 10,
    "start_time": "2022-10-26T13:12:25.987Z"
   },
   {
    "duration": 38,
    "start_time": "2022-10-26T13:12:25.999Z"
   },
   {
    "duration": 37,
    "start_time": "2022-10-26T13:12:26.039Z"
   },
   {
    "duration": 24,
    "start_time": "2022-10-26T13:12:26.078Z"
   },
   {
    "duration": 22,
    "start_time": "2022-10-26T13:12:57.033Z"
   },
   {
    "duration": 4,
    "start_time": "2022-10-26T13:32:32.961Z"
   },
   {
    "duration": 4,
    "start_time": "2022-10-26T13:34:53.674Z"
   },
   {
    "duration": 17,
    "start_time": "2022-10-26T13:34:58.049Z"
   },
   {
    "duration": 12,
    "start_time": "2022-10-26T13:34:59.192Z"
   },
   {
    "duration": 21,
    "start_time": "2022-10-26T13:34:59.873Z"
   },
   {
    "duration": 12,
    "start_time": "2022-10-26T13:35:00.495Z"
   },
   {
    "duration": 4,
    "start_time": "2022-10-26T13:35:44.767Z"
   },
   {
    "duration": 18,
    "start_time": "2022-10-26T13:35:49.863Z"
   },
   {
    "duration": 12,
    "start_time": "2022-10-26T13:35:50.647Z"
   },
   {
    "duration": 19,
    "start_time": "2022-10-26T13:35:51.456Z"
   },
   {
    "duration": 14,
    "start_time": "2022-10-26T13:35:52.639Z"
   },
   {
    "duration": 43,
    "start_time": "2022-10-26T18:09:56.559Z"
   },
   {
    "duration": 437,
    "start_time": "2022-10-26T18:10:48.012Z"
   },
   {
    "duration": 261,
    "start_time": "2022-10-26T18:10:48.451Z"
   },
   {
    "duration": 7,
    "start_time": "2022-10-26T18:10:48.714Z"
   },
   {
    "duration": 41,
    "start_time": "2022-10-26T18:10:48.724Z"
   },
   {
    "duration": 2,
    "start_time": "2022-10-26T18:10:48.767Z"
   },
   {
    "duration": 7,
    "start_time": "2022-10-26T18:10:48.770Z"
   },
   {
    "duration": 16,
    "start_time": "2022-10-26T18:10:48.778Z"
   },
   {
    "duration": 10,
    "start_time": "2022-10-26T18:10:48.796Z"
   },
   {
    "duration": 37,
    "start_time": "2022-10-26T18:10:48.807Z"
   },
   {
    "duration": 69,
    "start_time": "2022-10-26T18:10:48.857Z"
   },
   {
    "duration": 62,
    "start_time": "2022-10-26T18:10:48.928Z"
   },
   {
    "duration": 82,
    "start_time": "2022-10-26T18:10:48.992Z"
   },
   {
    "duration": 115,
    "start_time": "2022-10-26T18:10:49.078Z"
   },
   {
    "duration": 79,
    "start_time": "2022-10-26T18:10:49.195Z"
   },
   {
    "duration": 53,
    "start_time": "2022-10-26T18:10:49.277Z"
   },
   {
    "duration": 47,
    "start_time": "2022-10-26T18:10:49.332Z"
   },
   {
    "duration": 71,
    "start_time": "2022-10-26T18:10:49.381Z"
   },
   {
    "duration": 14,
    "start_time": "2022-10-26T18:10:49.454Z"
   },
   {
    "duration": 23,
    "start_time": "2022-10-26T18:10:49.470Z"
   },
   {
    "duration": 7,
    "start_time": "2022-10-26T18:10:49.495Z"
   },
   {
    "duration": 75,
    "start_time": "2022-10-26T18:10:49.504Z"
   },
   {
    "duration": 14,
    "start_time": "2022-10-26T18:10:49.581Z"
   },
   {
    "duration": 29,
    "start_time": "2022-10-26T18:10:49.596Z"
   },
   {
    "duration": 37,
    "start_time": "2022-10-26T18:10:49.629Z"
   },
   {
    "duration": 23,
    "start_time": "2022-10-26T18:10:49.669Z"
   },
   {
    "duration": 15,
    "start_time": "2022-10-26T18:10:49.694Z"
   },
   {
    "duration": 38,
    "start_time": "2022-10-26T18:10:49.711Z"
   },
   {
    "duration": 13,
    "start_time": "2022-10-26T18:10:49.752Z"
   },
   {
    "duration": 12,
    "start_time": "2022-10-26T18:10:49.767Z"
   },
   {
    "duration": 9,
    "start_time": "2022-10-26T18:10:49.781Z"
   },
   {
    "duration": 28,
    "start_time": "2022-10-26T18:10:49.791Z"
   },
   {
    "duration": 33,
    "start_time": "2022-10-26T18:10:49.830Z"
   },
   {
    "duration": 18,
    "start_time": "2022-10-26T18:10:49.865Z"
   },
   {
    "duration": 12,
    "start_time": "2022-10-26T18:10:49.884Z"
   },
   {
    "duration": 66,
    "start_time": "2022-10-26T18:10:49.898Z"
   },
   {
    "duration": 0,
    "start_time": "2022-10-26T18:10:49.966Z"
   },
   {
    "duration": 0,
    "start_time": "2022-10-26T18:10:49.967Z"
   },
   {
    "duration": 0,
    "start_time": "2022-10-26T18:10:49.968Z"
   },
   {
    "duration": 9,
    "start_time": "2022-10-26T18:11:20.116Z"
   },
   {
    "duration": 35,
    "start_time": "2022-10-26T18:11:39.828Z"
   },
   {
    "duration": 34,
    "start_time": "2022-10-26T18:12:10.079Z"
   },
   {
    "duration": 34,
    "start_time": "2022-10-26T18:12:16.524Z"
   },
   {
    "duration": 9,
    "start_time": "2022-10-26T18:13:32.067Z"
   },
   {
    "duration": 60,
    "start_time": "2022-10-26T18:15:11.152Z"
   },
   {
    "duration": 32,
    "start_time": "2022-10-26T18:15:32.667Z"
   },
   {
    "duration": 64,
    "start_time": "2022-10-26T18:16:06.426Z"
   },
   {
    "duration": 8,
    "start_time": "2022-10-26T18:18:10.117Z"
   },
   {
    "duration": 13,
    "start_time": "2022-10-26T18:18:40.006Z"
   },
   {
    "duration": 16,
    "start_time": "2022-10-26T18:19:27.606Z"
   },
   {
    "duration": 43,
    "start_time": "2022-10-26T18:20:31.453Z"
   },
   {
    "duration": 12,
    "start_time": "2022-10-26T18:47:44.262Z"
   },
   {
    "duration": 49,
    "start_time": "2022-10-27T07:05:53.692Z"
   },
   {
    "duration": 6,
    "start_time": "2022-10-27T07:07:19.496Z"
   },
   {
    "duration": 6,
    "start_time": "2022-10-27T07:07:46.127Z"
   },
   {
    "duration": 344,
    "start_time": "2022-10-27T07:07:56.742Z"
   },
   {
    "duration": 461,
    "start_time": "2022-10-27T07:07:57.088Z"
   },
   {
    "duration": 7,
    "start_time": "2022-10-27T07:07:57.551Z"
   },
   {
    "duration": 45,
    "start_time": "2022-10-27T07:07:57.560Z"
   },
   {
    "duration": 5,
    "start_time": "2022-10-27T07:07:57.607Z"
   },
   {
    "duration": 16,
    "start_time": "2022-10-27T07:07:57.613Z"
   },
   {
    "duration": 19,
    "start_time": "2022-10-27T07:07:57.631Z"
   },
   {
    "duration": 14,
    "start_time": "2022-10-27T07:07:57.652Z"
   },
   {
    "duration": 44,
    "start_time": "2022-10-27T07:07:57.668Z"
   },
   {
    "duration": 37,
    "start_time": "2022-10-27T07:07:57.716Z"
   },
   {
    "duration": 46,
    "start_time": "2022-10-27T07:07:57.755Z"
   },
   {
    "duration": 90,
    "start_time": "2022-10-27T07:07:57.803Z"
   },
   {
    "duration": 96,
    "start_time": "2022-10-27T07:07:57.894Z"
   },
   {
    "duration": 52,
    "start_time": "2022-10-27T07:07:57.992Z"
   },
   {
    "duration": 49,
    "start_time": "2022-10-27T07:07:58.045Z"
   },
   {
    "duration": 42,
    "start_time": "2022-10-27T07:07:58.095Z"
   },
   {
    "duration": 31,
    "start_time": "2022-10-27T07:07:58.139Z"
   },
   {
    "duration": 19,
    "start_time": "2022-10-27T07:07:58.172Z"
   },
   {
    "duration": 20,
    "start_time": "2022-10-27T07:07:58.193Z"
   },
   {
    "duration": 3,
    "start_time": "2022-10-27T07:07:58.215Z"
   },
   {
    "duration": 22,
    "start_time": "2022-10-27T07:07:58.220Z"
   },
   {
    "duration": 14,
    "start_time": "2022-10-27T07:07:58.244Z"
   },
   {
    "duration": 33,
    "start_time": "2022-10-27T07:07:58.260Z"
   },
   {
    "duration": 12,
    "start_time": "2022-10-27T07:07:58.295Z"
   },
   {
    "duration": 16,
    "start_time": "2022-10-27T07:07:58.309Z"
   },
   {
    "duration": 13,
    "start_time": "2022-10-27T07:07:58.326Z"
   },
   {
    "duration": 40,
    "start_time": "2022-10-27T07:07:58.340Z"
   },
   {
    "duration": 11,
    "start_time": "2022-10-27T07:07:58.386Z"
   },
   {
    "duration": 8,
    "start_time": "2022-10-27T07:07:58.399Z"
   },
   {
    "duration": 4,
    "start_time": "2022-10-27T07:07:58.408Z"
   },
   {
    "duration": 18,
    "start_time": "2022-10-27T07:07:58.414Z"
   },
   {
    "duration": 10,
    "start_time": "2022-10-27T07:07:58.433Z"
   },
   {
    "duration": 50,
    "start_time": "2022-10-27T07:07:58.445Z"
   },
   {
    "duration": 12,
    "start_time": "2022-10-27T07:07:58.496Z"
   },
   {
    "duration": 10,
    "start_time": "2022-10-27T07:07:58.509Z"
   },
   {
    "duration": 2,
    "start_time": "2022-10-27T07:07:58.521Z"
   },
   {
    "duration": 4,
    "start_time": "2022-10-27T07:07:58.525Z"
   },
   {
    "duration": 5,
    "start_time": "2022-10-27T07:07:58.531Z"
   },
   {
    "duration": 14,
    "start_time": "2022-10-27T07:08:15.181Z"
   },
   {
    "duration": 13,
    "start_time": "2022-10-27T07:08:16.380Z"
   },
   {
    "duration": 6,
    "start_time": "2022-10-27T07:08:29.574Z"
   },
   {
    "duration": 157,
    "start_time": "2022-10-27T07:08:32.821Z"
   },
   {
    "duration": 8,
    "start_time": "2022-10-27T07:08:35.221Z"
   },
   {
    "duration": 25,
    "start_time": "2022-10-27T07:08:38.046Z"
   },
   {
    "duration": 3,
    "start_time": "2022-10-27T07:08:42.606Z"
   },
   {
    "duration": 9,
    "start_time": "2022-10-27T07:08:45.113Z"
   },
   {
    "duration": 4,
    "start_time": "2022-10-27T07:08:47.465Z"
   },
   {
    "duration": 35,
    "start_time": "2022-10-27T07:08:50.762Z"
   },
   {
    "duration": 28,
    "start_time": "2022-10-27T07:08:53.537Z"
   },
   {
    "duration": 28,
    "start_time": "2022-10-27T07:08:55.380Z"
   },
   {
    "duration": 56,
    "start_time": "2022-10-27T07:09:12.517Z"
   },
   {
    "duration": 70,
    "start_time": "2022-10-27T07:09:14.669Z"
   },
   {
    "duration": 54,
    "start_time": "2022-10-27T07:09:17.291Z"
   },
   {
    "duration": 33,
    "start_time": "2022-10-27T07:09:22.836Z"
   },
   {
    "duration": 48,
    "start_time": "2022-10-27T07:09:26.461Z"
   },
   {
    "duration": 35,
    "start_time": "2022-10-27T07:09:30.586Z"
   },
   {
    "duration": 11,
    "start_time": "2022-10-27T07:09:36.060Z"
   },
   {
    "duration": 13,
    "start_time": "2022-10-27T07:09:38.284Z"
   },
   {
    "duration": 3,
    "start_time": "2022-10-27T07:09:42.513Z"
   },
   {
    "duration": 22,
    "start_time": "2022-10-27T07:09:44.578Z"
   },
   {
    "duration": 12,
    "start_time": "2022-10-27T07:09:45.642Z"
   },
   {
    "duration": 19,
    "start_time": "2022-10-27T07:09:46.395Z"
   },
   {
    "duration": 14,
    "start_time": "2022-10-27T07:09:47.094Z"
   },
   {
    "duration": 17,
    "start_time": "2022-10-27T07:09:48.057Z"
   },
   {
    "duration": 6,
    "start_time": "2022-10-27T07:09:52.514Z"
   },
   {
    "duration": 14,
    "start_time": "2022-10-27T07:09:57.360Z"
   },
   {
    "duration": 11,
    "start_time": "2022-10-27T07:09:58.416Z"
   },
   {
    "duration": 4,
    "start_time": "2022-10-27T07:10:01.561Z"
   },
   {
    "duration": 15,
    "start_time": "2022-10-27T07:10:04.330Z"
   },
   {
    "duration": 11,
    "start_time": "2022-10-27T07:10:06.404Z"
   },
   {
    "duration": 22,
    "start_time": "2022-10-27T07:10:08.445Z"
   },
   {
    "duration": 14,
    "start_time": "2022-10-27T07:10:09.045Z"
   },
   {
    "duration": 13,
    "start_time": "2022-10-27T07:10:12.916Z"
   },
   {
    "duration": 9,
    "start_time": "2022-10-27T07:12:25.187Z"
   },
   {
    "duration": 5,
    "start_time": "2022-10-27T07:12:58.707Z"
   },
   {
    "duration": 5,
    "start_time": "2022-10-27T07:14:26.812Z"
   },
   {
    "duration": 6,
    "start_time": "2022-10-27T07:14:39.249Z"
   }
  ],
  "colab": {
   "collapsed_sections": [
    "E0vqbgi9ay0H",
    "VUC88oWjTJw2"
   ],
   "name": "automatization_template_upd4.ipynb",
   "provenance": []
  },
  "kernelspec": {
   "display_name": "Python 3 (ipykernel)",
   "language": "python",
   "name": "python3"
  },
  "language_info": {
   "codemirror_mode": {
    "name": "ipython",
    "version": 3
   },
   "file_extension": ".py",
   "mimetype": "text/x-python",
   "name": "python",
   "nbconvert_exporter": "python",
   "pygments_lexer": "ipython3",
   "version": "3.9.13"
  },
  "toc": {
   "base_numbering": 1,
   "nav_menu": {
    "height": "215px",
    "width": "403px"
   },
   "number_sections": true,
   "sideBar": true,
   "skip_h1_title": true,
   "title_cell": "Table of Contents",
   "title_sidebar": "Contents",
   "toc_cell": false,
   "toc_position": {
    "height": "calc(100% - 180px)",
    "left": "10px",
    "top": "150px",
    "width": "285.825px"
   },
   "toc_section_display": true,
   "toc_window_display": false
  }
 },
 "nbformat": 4,
 "nbformat_minor": 1
}
